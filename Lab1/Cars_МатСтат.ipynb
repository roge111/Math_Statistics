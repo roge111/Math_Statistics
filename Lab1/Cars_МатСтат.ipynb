{
  "nbformat": 4,
  "nbformat_minor": 0,
  "metadata": {
    "colab": {
      "provenance": []
    },
    "kernelspec": {
      "name": "python3",
      "display_name": "Python 3"
    },
    "language_info": {
      "name": "python"
    }
  },
  "cells": [
    {
      "cell_type": "code",
      "execution_count": null,
      "metadata": {
        "id": "PmRNskfupy68"
      },
      "outputs": [],
      "source": [
        "import pandas as pd\n",
        "import numpy as np\n",
        "import plotly.express as px\n",
        "from scipy.stats import bernoulli\n",
        "from scipy.optimize import minimize\n",
        "import random\n",
        "import torch\n",
        "import scipy.stats as stats"
      ]
    },
    {
      "cell_type": "code",
      "source": [
        "def plausibility(p: float, array: list):\n",
        "  summ = 0\n",
        "  for x, y in array:\n",
        "    summ += x*np.log(p) + (1-x)*np.log(1-p)\n",
        "  return summ\n",
        "\n",
        "def objective_function(p, x):\n",
        "    return -plausibility(p, x)"
      ],
      "metadata": {
        "id": "n7oI0kF8qtra"
      },
      "execution_count": null,
      "outputs": []
    },
    {
      "cell_type": "code",
      "source": [
        "df = pd.read_csv('cars93.csv')\n",
        "df"
      ],
      "metadata": {
        "id": "Y5uHibkqqEuQ",
        "colab": {
          "base_uri": "https://localhost:8080/",
          "height": 617
        },
        "outputId": "6d77cb95-b05c-4cd3-995d-7bdeb42fc3d8"
      },
      "execution_count": null,
      "outputs": [
        {
          "output_type": "execute_result",
          "data": {
            "text/plain": [
              "   Manufacturer    Model     Type  Min.Price  Price  Max.Price  MPG.city  \\\n",
              "0         Acura  Integra    Small       12.9   15.9       18.8        25   \n",
              "1         Acura   Legend  Midsize       29.2   33.9       38.7        18   \n",
              "2          Audi       90  Compact       25.9   29.1       32.3        20   \n",
              "3          Audi      100  Midsize       30.8   37.7       44.6        19   \n",
              "4           BMW     535i  Midsize       23.7   30.0       36.2        22   \n",
              "..          ...      ...      ...        ...    ...        ...       ...   \n",
              "88   Volkswagen  Eurovan      Van       16.6   19.7       22.7        17   \n",
              "89   Volkswagen   Passat  Compact       17.6   20.0       22.4        21   \n",
              "90   Volkswagen  Corrado   Sporty       22.9   23.3       23.7        18   \n",
              "91        Volvo      240  Compact       21.8   22.7       23.5        21   \n",
              "92        Volvo      850  Midsize       24.8   26.7       28.5        20   \n",
              "\n",
              "    MPG.highway             AirBags DriveTrain  ... Passengers  Length  \\\n",
              "0            31                 NaN      Front  ...          5     177   \n",
              "1            25  Driver & Passenger      Front  ...          5     195   \n",
              "2            26         Driver only      Front  ...          5     180   \n",
              "3            26  Driver & Passenger      Front  ...          6     193   \n",
              "4            30         Driver only       Rear  ...          4     186   \n",
              "..          ...                 ...        ...  ...        ...     ...   \n",
              "88           21                 NaN      Front  ...          7     187   \n",
              "89           30                 NaN      Front  ...          5     180   \n",
              "90           25                 NaN      Front  ...          4     159   \n",
              "91           28         Driver only       Rear  ...          5     190   \n",
              "92           28  Driver & Passenger      Front  ...          5     184   \n",
              "\n",
              "    Wheelbase  Width  Turn.circle Rear.seat.room  Luggage.room  Weight  \\\n",
              "0         102     68           37           26.5          11.0    2705   \n",
              "1         115     71           38           30.0          15.0    3560   \n",
              "2         102     67           37           28.0          14.0    3375   \n",
              "3         106     70           37           31.0          17.0    3405   \n",
              "4         109     69           39           27.0          13.0    3640   \n",
              "..        ...    ...          ...            ...           ...     ...   \n",
              "88        115     72           38           34.0           NaN    3960   \n",
              "89        103     67           35           31.5          14.0    2985   \n",
              "90         97     66           36           26.0          15.0    2810   \n",
              "91        104     67           37           29.5          14.0    2985   \n",
              "92        105     69           38           30.0          15.0    3245   \n",
              "\n",
              "     Origin                Make  \n",
              "0   non-USA       Acura Integra  \n",
              "1   non-USA        Acura Legend  \n",
              "2   non-USA             Audi 90  \n",
              "3   non-USA            Audi 100  \n",
              "4   non-USA            BMW 535i  \n",
              "..      ...                 ...  \n",
              "88  non-USA  Volkswagen Eurovan  \n",
              "89  non-USA   Volkswagen Passat  \n",
              "90  non-USA  Volkswagen Corrado  \n",
              "91  non-USA           Volvo 240  \n",
              "92  non-USA           Volvo 850  \n",
              "\n",
              "[93 rows x 27 columns]"
            ],
            "text/html": [
              "\n",
              "  <div id=\"df-bd206ad5-7449-415f-85ce-f6bf12f8c926\" class=\"colab-df-container\">\n",
              "    <div>\n",
              "<style scoped>\n",
              "    .dataframe tbody tr th:only-of-type {\n",
              "        vertical-align: middle;\n",
              "    }\n",
              "\n",
              "    .dataframe tbody tr th {\n",
              "        vertical-align: top;\n",
              "    }\n",
              "\n",
              "    .dataframe thead th {\n",
              "        text-align: right;\n",
              "    }\n",
              "</style>\n",
              "<table border=\"1\" class=\"dataframe\">\n",
              "  <thead>\n",
              "    <tr style=\"text-align: right;\">\n",
              "      <th></th>\n",
              "      <th>Manufacturer</th>\n",
              "      <th>Model</th>\n",
              "      <th>Type</th>\n",
              "      <th>Min.Price</th>\n",
              "      <th>Price</th>\n",
              "      <th>Max.Price</th>\n",
              "      <th>MPG.city</th>\n",
              "      <th>MPG.highway</th>\n",
              "      <th>AirBags</th>\n",
              "      <th>DriveTrain</th>\n",
              "      <th>...</th>\n",
              "      <th>Passengers</th>\n",
              "      <th>Length</th>\n",
              "      <th>Wheelbase</th>\n",
              "      <th>Width</th>\n",
              "      <th>Turn.circle</th>\n",
              "      <th>Rear.seat.room</th>\n",
              "      <th>Luggage.room</th>\n",
              "      <th>Weight</th>\n",
              "      <th>Origin</th>\n",
              "      <th>Make</th>\n",
              "    </tr>\n",
              "  </thead>\n",
              "  <tbody>\n",
              "    <tr>\n",
              "      <th>0</th>\n",
              "      <td>Acura</td>\n",
              "      <td>Integra</td>\n",
              "      <td>Small</td>\n",
              "      <td>12.9</td>\n",
              "      <td>15.9</td>\n",
              "      <td>18.8</td>\n",
              "      <td>25</td>\n",
              "      <td>31</td>\n",
              "      <td>NaN</td>\n",
              "      <td>Front</td>\n",
              "      <td>...</td>\n",
              "      <td>5</td>\n",
              "      <td>177</td>\n",
              "      <td>102</td>\n",
              "      <td>68</td>\n",
              "      <td>37</td>\n",
              "      <td>26.5</td>\n",
              "      <td>11.0</td>\n",
              "      <td>2705</td>\n",
              "      <td>non-USA</td>\n",
              "      <td>Acura Integra</td>\n",
              "    </tr>\n",
              "    <tr>\n",
              "      <th>1</th>\n",
              "      <td>Acura</td>\n",
              "      <td>Legend</td>\n",
              "      <td>Midsize</td>\n",
              "      <td>29.2</td>\n",
              "      <td>33.9</td>\n",
              "      <td>38.7</td>\n",
              "      <td>18</td>\n",
              "      <td>25</td>\n",
              "      <td>Driver &amp; Passenger</td>\n",
              "      <td>Front</td>\n",
              "      <td>...</td>\n",
              "      <td>5</td>\n",
              "      <td>195</td>\n",
              "      <td>115</td>\n",
              "      <td>71</td>\n",
              "      <td>38</td>\n",
              "      <td>30.0</td>\n",
              "      <td>15.0</td>\n",
              "      <td>3560</td>\n",
              "      <td>non-USA</td>\n",
              "      <td>Acura Legend</td>\n",
              "    </tr>\n",
              "    <tr>\n",
              "      <th>2</th>\n",
              "      <td>Audi</td>\n",
              "      <td>90</td>\n",
              "      <td>Compact</td>\n",
              "      <td>25.9</td>\n",
              "      <td>29.1</td>\n",
              "      <td>32.3</td>\n",
              "      <td>20</td>\n",
              "      <td>26</td>\n",
              "      <td>Driver only</td>\n",
              "      <td>Front</td>\n",
              "      <td>...</td>\n",
              "      <td>5</td>\n",
              "      <td>180</td>\n",
              "      <td>102</td>\n",
              "      <td>67</td>\n",
              "      <td>37</td>\n",
              "      <td>28.0</td>\n",
              "      <td>14.0</td>\n",
              "      <td>3375</td>\n",
              "      <td>non-USA</td>\n",
              "      <td>Audi 90</td>\n",
              "    </tr>\n",
              "    <tr>\n",
              "      <th>3</th>\n",
              "      <td>Audi</td>\n",
              "      <td>100</td>\n",
              "      <td>Midsize</td>\n",
              "      <td>30.8</td>\n",
              "      <td>37.7</td>\n",
              "      <td>44.6</td>\n",
              "      <td>19</td>\n",
              "      <td>26</td>\n",
              "      <td>Driver &amp; Passenger</td>\n",
              "      <td>Front</td>\n",
              "      <td>...</td>\n",
              "      <td>6</td>\n",
              "      <td>193</td>\n",
              "      <td>106</td>\n",
              "      <td>70</td>\n",
              "      <td>37</td>\n",
              "      <td>31.0</td>\n",
              "      <td>17.0</td>\n",
              "      <td>3405</td>\n",
              "      <td>non-USA</td>\n",
              "      <td>Audi 100</td>\n",
              "    </tr>\n",
              "    <tr>\n",
              "      <th>4</th>\n",
              "      <td>BMW</td>\n",
              "      <td>535i</td>\n",
              "      <td>Midsize</td>\n",
              "      <td>23.7</td>\n",
              "      <td>30.0</td>\n",
              "      <td>36.2</td>\n",
              "      <td>22</td>\n",
              "      <td>30</td>\n",
              "      <td>Driver only</td>\n",
              "      <td>Rear</td>\n",
              "      <td>...</td>\n",
              "      <td>4</td>\n",
              "      <td>186</td>\n",
              "      <td>109</td>\n",
              "      <td>69</td>\n",
              "      <td>39</td>\n",
              "      <td>27.0</td>\n",
              "      <td>13.0</td>\n",
              "      <td>3640</td>\n",
              "      <td>non-USA</td>\n",
              "      <td>BMW 535i</td>\n",
              "    </tr>\n",
              "    <tr>\n",
              "      <th>...</th>\n",
              "      <td>...</td>\n",
              "      <td>...</td>\n",
              "      <td>...</td>\n",
              "      <td>...</td>\n",
              "      <td>...</td>\n",
              "      <td>...</td>\n",
              "      <td>...</td>\n",
              "      <td>...</td>\n",
              "      <td>...</td>\n",
              "      <td>...</td>\n",
              "      <td>...</td>\n",
              "      <td>...</td>\n",
              "      <td>...</td>\n",
              "      <td>...</td>\n",
              "      <td>...</td>\n",
              "      <td>...</td>\n",
              "      <td>...</td>\n",
              "      <td>...</td>\n",
              "      <td>...</td>\n",
              "      <td>...</td>\n",
              "      <td>...</td>\n",
              "    </tr>\n",
              "    <tr>\n",
              "      <th>88</th>\n",
              "      <td>Volkswagen</td>\n",
              "      <td>Eurovan</td>\n",
              "      <td>Van</td>\n",
              "      <td>16.6</td>\n",
              "      <td>19.7</td>\n",
              "      <td>22.7</td>\n",
              "      <td>17</td>\n",
              "      <td>21</td>\n",
              "      <td>NaN</td>\n",
              "      <td>Front</td>\n",
              "      <td>...</td>\n",
              "      <td>7</td>\n",
              "      <td>187</td>\n",
              "      <td>115</td>\n",
              "      <td>72</td>\n",
              "      <td>38</td>\n",
              "      <td>34.0</td>\n",
              "      <td>NaN</td>\n",
              "      <td>3960</td>\n",
              "      <td>non-USA</td>\n",
              "      <td>Volkswagen Eurovan</td>\n",
              "    </tr>\n",
              "    <tr>\n",
              "      <th>89</th>\n",
              "      <td>Volkswagen</td>\n",
              "      <td>Passat</td>\n",
              "      <td>Compact</td>\n",
              "      <td>17.6</td>\n",
              "      <td>20.0</td>\n",
              "      <td>22.4</td>\n",
              "      <td>21</td>\n",
              "      <td>30</td>\n",
              "      <td>NaN</td>\n",
              "      <td>Front</td>\n",
              "      <td>...</td>\n",
              "      <td>5</td>\n",
              "      <td>180</td>\n",
              "      <td>103</td>\n",
              "      <td>67</td>\n",
              "      <td>35</td>\n",
              "      <td>31.5</td>\n",
              "      <td>14.0</td>\n",
              "      <td>2985</td>\n",
              "      <td>non-USA</td>\n",
              "      <td>Volkswagen Passat</td>\n",
              "    </tr>\n",
              "    <tr>\n",
              "      <th>90</th>\n",
              "      <td>Volkswagen</td>\n",
              "      <td>Corrado</td>\n",
              "      <td>Sporty</td>\n",
              "      <td>22.9</td>\n",
              "      <td>23.3</td>\n",
              "      <td>23.7</td>\n",
              "      <td>18</td>\n",
              "      <td>25</td>\n",
              "      <td>NaN</td>\n",
              "      <td>Front</td>\n",
              "      <td>...</td>\n",
              "      <td>4</td>\n",
              "      <td>159</td>\n",
              "      <td>97</td>\n",
              "      <td>66</td>\n",
              "      <td>36</td>\n",
              "      <td>26.0</td>\n",
              "      <td>15.0</td>\n",
              "      <td>2810</td>\n",
              "      <td>non-USA</td>\n",
              "      <td>Volkswagen Corrado</td>\n",
              "    </tr>\n",
              "    <tr>\n",
              "      <th>91</th>\n",
              "      <td>Volvo</td>\n",
              "      <td>240</td>\n",
              "      <td>Compact</td>\n",
              "      <td>21.8</td>\n",
              "      <td>22.7</td>\n",
              "      <td>23.5</td>\n",
              "      <td>21</td>\n",
              "      <td>28</td>\n",
              "      <td>Driver only</td>\n",
              "      <td>Rear</td>\n",
              "      <td>...</td>\n",
              "      <td>5</td>\n",
              "      <td>190</td>\n",
              "      <td>104</td>\n",
              "      <td>67</td>\n",
              "      <td>37</td>\n",
              "      <td>29.5</td>\n",
              "      <td>14.0</td>\n",
              "      <td>2985</td>\n",
              "      <td>non-USA</td>\n",
              "      <td>Volvo 240</td>\n",
              "    </tr>\n",
              "    <tr>\n",
              "      <th>92</th>\n",
              "      <td>Volvo</td>\n",
              "      <td>850</td>\n",
              "      <td>Midsize</td>\n",
              "      <td>24.8</td>\n",
              "      <td>26.7</td>\n",
              "      <td>28.5</td>\n",
              "      <td>20</td>\n",
              "      <td>28</td>\n",
              "      <td>Driver &amp; Passenger</td>\n",
              "      <td>Front</td>\n",
              "      <td>...</td>\n",
              "      <td>5</td>\n",
              "      <td>184</td>\n",
              "      <td>105</td>\n",
              "      <td>69</td>\n",
              "      <td>38</td>\n",
              "      <td>30.0</td>\n",
              "      <td>15.0</td>\n",
              "      <td>3245</td>\n",
              "      <td>non-USA</td>\n",
              "      <td>Volvo 850</td>\n",
              "    </tr>\n",
              "  </tbody>\n",
              "</table>\n",
              "<p>93 rows × 27 columns</p>\n",
              "</div>\n",
              "    <div class=\"colab-df-buttons\">\n",
              "\n",
              "  <div class=\"colab-df-container\">\n",
              "    <button class=\"colab-df-convert\" onclick=\"convertToInteractive('df-bd206ad5-7449-415f-85ce-f6bf12f8c926')\"\n",
              "            title=\"Convert this dataframe to an interactive table.\"\n",
              "            style=\"display:none;\">\n",
              "\n",
              "  <svg xmlns=\"http://www.w3.org/2000/svg\" height=\"24px\" viewBox=\"0 -960 960 960\">\n",
              "    <path d=\"M120-120v-720h720v720H120Zm60-500h600v-160H180v160Zm220 220h160v-160H400v160Zm0 220h160v-160H400v160ZM180-400h160v-160H180v160Zm440 0h160v-160H620v160ZM180-180h160v-160H180v160Zm440 0h160v-160H620v160Z\"/>\n",
              "  </svg>\n",
              "    </button>\n",
              "\n",
              "  <style>\n",
              "    .colab-df-container {\n",
              "      display:flex;\n",
              "      gap: 12px;\n",
              "    }\n",
              "\n",
              "    .colab-df-convert {\n",
              "      background-color: #E8F0FE;\n",
              "      border: none;\n",
              "      border-radius: 50%;\n",
              "      cursor: pointer;\n",
              "      display: none;\n",
              "      fill: #1967D2;\n",
              "      height: 32px;\n",
              "      padding: 0 0 0 0;\n",
              "      width: 32px;\n",
              "    }\n",
              "\n",
              "    .colab-df-convert:hover {\n",
              "      background-color: #E2EBFA;\n",
              "      box-shadow: 0px 1px 2px rgba(60, 64, 67, 0.3), 0px 1px 3px 1px rgba(60, 64, 67, 0.15);\n",
              "      fill: #174EA6;\n",
              "    }\n",
              "\n",
              "    .colab-df-buttons div {\n",
              "      margin-bottom: 4px;\n",
              "    }\n",
              "\n",
              "    [theme=dark] .colab-df-convert {\n",
              "      background-color: #3B4455;\n",
              "      fill: #D2E3FC;\n",
              "    }\n",
              "\n",
              "    [theme=dark] .colab-df-convert:hover {\n",
              "      background-color: #434B5C;\n",
              "      box-shadow: 0px 1px 3px 1px rgba(0, 0, 0, 0.15);\n",
              "      filter: drop-shadow(0px 1px 2px rgba(0, 0, 0, 0.3));\n",
              "      fill: #FFFFFF;\n",
              "    }\n",
              "  </style>\n",
              "\n",
              "    <script>\n",
              "      const buttonEl =\n",
              "        document.querySelector('#df-bd206ad5-7449-415f-85ce-f6bf12f8c926 button.colab-df-convert');\n",
              "      buttonEl.style.display =\n",
              "        google.colab.kernel.accessAllowed ? 'block' : 'none';\n",
              "\n",
              "      async function convertToInteractive(key) {\n",
              "        const element = document.querySelector('#df-bd206ad5-7449-415f-85ce-f6bf12f8c926');\n",
              "        const dataTable =\n",
              "          await google.colab.kernel.invokeFunction('convertToInteractive',\n",
              "                                                    [key], {});\n",
              "        if (!dataTable) return;\n",
              "\n",
              "        const docLinkHtml = 'Like what you see? Visit the ' +\n",
              "          '<a target=\"_blank\" href=https://colab.research.google.com/notebooks/data_table.ipynb>data table notebook</a>'\n",
              "          + ' to learn more about interactive tables.';\n",
              "        element.innerHTML = '';\n",
              "        dataTable['output_type'] = 'display_data';\n",
              "        await google.colab.output.renderOutput(dataTable, element);\n",
              "        const docLink = document.createElement('div');\n",
              "        docLink.innerHTML = docLinkHtml;\n",
              "        element.appendChild(docLink);\n",
              "      }\n",
              "    </script>\n",
              "  </div>\n",
              "\n",
              "\n",
              "<div id=\"df-4d4241a9-7681-4886-80a4-dca4e5c65871\">\n",
              "  <button class=\"colab-df-quickchart\" onclick=\"quickchart('df-4d4241a9-7681-4886-80a4-dca4e5c65871')\"\n",
              "            title=\"Suggest charts\"\n",
              "            style=\"display:none;\">\n",
              "\n",
              "<svg xmlns=\"http://www.w3.org/2000/svg\" height=\"24px\"viewBox=\"0 0 24 24\"\n",
              "     width=\"24px\">\n",
              "    <g>\n",
              "        <path d=\"M19 3H5c-1.1 0-2 .9-2 2v14c0 1.1.9 2 2 2h14c1.1 0 2-.9 2-2V5c0-1.1-.9-2-2-2zM9 17H7v-7h2v7zm4 0h-2V7h2v10zm4 0h-2v-4h2v4z\"/>\n",
              "    </g>\n",
              "</svg>\n",
              "  </button>\n",
              "\n",
              "<style>\n",
              "  .colab-df-quickchart {\n",
              "      --bg-color: #E8F0FE;\n",
              "      --fill-color: #1967D2;\n",
              "      --hover-bg-color: #E2EBFA;\n",
              "      --hover-fill-color: #174EA6;\n",
              "      --disabled-fill-color: #AAA;\n",
              "      --disabled-bg-color: #DDD;\n",
              "  }\n",
              "\n",
              "  [theme=dark] .colab-df-quickchart {\n",
              "      --bg-color: #3B4455;\n",
              "      --fill-color: #D2E3FC;\n",
              "      --hover-bg-color: #434B5C;\n",
              "      --hover-fill-color: #FFFFFF;\n",
              "      --disabled-bg-color: #3B4455;\n",
              "      --disabled-fill-color: #666;\n",
              "  }\n",
              "\n",
              "  .colab-df-quickchart {\n",
              "    background-color: var(--bg-color);\n",
              "    border: none;\n",
              "    border-radius: 50%;\n",
              "    cursor: pointer;\n",
              "    display: none;\n",
              "    fill: var(--fill-color);\n",
              "    height: 32px;\n",
              "    padding: 0;\n",
              "    width: 32px;\n",
              "  }\n",
              "\n",
              "  .colab-df-quickchart:hover {\n",
              "    background-color: var(--hover-bg-color);\n",
              "    box-shadow: 0 1px 2px rgba(60, 64, 67, 0.3), 0 1px 3px 1px rgba(60, 64, 67, 0.15);\n",
              "    fill: var(--button-hover-fill-color);\n",
              "  }\n",
              "\n",
              "  .colab-df-quickchart-complete:disabled,\n",
              "  .colab-df-quickchart-complete:disabled:hover {\n",
              "    background-color: var(--disabled-bg-color);\n",
              "    fill: var(--disabled-fill-color);\n",
              "    box-shadow: none;\n",
              "  }\n",
              "\n",
              "  .colab-df-spinner {\n",
              "    border: 2px solid var(--fill-color);\n",
              "    border-color: transparent;\n",
              "    border-bottom-color: var(--fill-color);\n",
              "    animation:\n",
              "      spin 1s steps(1) infinite;\n",
              "  }\n",
              "\n",
              "  @keyframes spin {\n",
              "    0% {\n",
              "      border-color: transparent;\n",
              "      border-bottom-color: var(--fill-color);\n",
              "      border-left-color: var(--fill-color);\n",
              "    }\n",
              "    20% {\n",
              "      border-color: transparent;\n",
              "      border-left-color: var(--fill-color);\n",
              "      border-top-color: var(--fill-color);\n",
              "    }\n",
              "    30% {\n",
              "      border-color: transparent;\n",
              "      border-left-color: var(--fill-color);\n",
              "      border-top-color: var(--fill-color);\n",
              "      border-right-color: var(--fill-color);\n",
              "    }\n",
              "    40% {\n",
              "      border-color: transparent;\n",
              "      border-right-color: var(--fill-color);\n",
              "      border-top-color: var(--fill-color);\n",
              "    }\n",
              "    60% {\n",
              "      border-color: transparent;\n",
              "      border-right-color: var(--fill-color);\n",
              "    }\n",
              "    80% {\n",
              "      border-color: transparent;\n",
              "      border-right-color: var(--fill-color);\n",
              "      border-bottom-color: var(--fill-color);\n",
              "    }\n",
              "    90% {\n",
              "      border-color: transparent;\n",
              "      border-bottom-color: var(--fill-color);\n",
              "    }\n",
              "  }\n",
              "</style>\n",
              "\n",
              "  <script>\n",
              "    async function quickchart(key) {\n",
              "      const quickchartButtonEl =\n",
              "        document.querySelector('#' + key + ' button');\n",
              "      quickchartButtonEl.disabled = true;  // To prevent multiple clicks.\n",
              "      quickchartButtonEl.classList.add('colab-df-spinner');\n",
              "      try {\n",
              "        const charts = await google.colab.kernel.invokeFunction(\n",
              "            'suggestCharts', [key], {});\n",
              "      } catch (error) {\n",
              "        console.error('Error during call to suggestCharts:', error);\n",
              "      }\n",
              "      quickchartButtonEl.classList.remove('colab-df-spinner');\n",
              "      quickchartButtonEl.classList.add('colab-df-quickchart-complete');\n",
              "    }\n",
              "    (() => {\n",
              "      let quickchartButtonEl =\n",
              "        document.querySelector('#df-4d4241a9-7681-4886-80a4-dca4e5c65871 button');\n",
              "      quickchartButtonEl.style.display =\n",
              "        google.colab.kernel.accessAllowed ? 'block' : 'none';\n",
              "    })();\n",
              "  </script>\n",
              "</div>\n",
              "    </div>\n",
              "  </div>\n"
            ],
            "application/vnd.google.colaboratory.intrinsic+json": {
              "type": "dataframe",
              "variable_name": "df"
            }
          },
          "metadata": {},
          "execution_count": 3
        }
      ]
    },
    {
      "cell_type": "code",
      "source": [
        "# Среднее выборочное значение\n",
        "summ_power =  df['Horsepower'].astype(int).sum()\n",
        "count_power = df.shape[0]\n",
        "\n",
        "medium_power = summ_power/count_power\n",
        "print('Среднее выборочное значение =',medium_power)"
      ],
      "metadata": {
        "colab": {
          "base_uri": "https://localhost:8080/"
        },
        "id": "OIVuRTXGy8fo",
        "outputId": "ce47a082-2c8e-4da1-83eb-9c1e144b94b9"
      },
      "execution_count": null,
      "outputs": [
        {
          "output_type": "stream",
          "name": "stdout",
          "text": [
            "Среднее выборочное значение = 143.8279569892473\n"
          ]
        }
      ]
    },
    {
      "cell_type": "code",
      "source": [
        "# Дисперсия для мощности автомобиля\n",
        "disper = df['Horsepower'].var()\n",
        "print('Дисперсия =',disper)\n",
        "\n",
        "# Среднеквадратичное отколнение\n",
        "std = df['Horsepower'].std()\n",
        "print('Стандратное (среднекавдратичное) значение=', std)"
      ],
      "metadata": {
        "colab": {
          "base_uri": "https://localhost:8080/"
        },
        "id": "QSFT7HhT0TBG",
        "outputId": "5ab6889e-c65a-4a51-e092-aa66b367e840"
      },
      "execution_count": null,
      "outputs": [
        {
          "output_type": "stream",
          "name": "stdout",
          "text": [
            "Дисперсия = 2743.0787751285648\n",
            "Стандратное (среднекавдратичное) значение= 52.37440954443844\n"
          ]
        }
      ]
    },
    {
      "cell_type": "code",
      "source": [
        "#Высиляем квартили мощность\n",
        "quar = df['Horsepower'].quantile([0.25, 0.5, 0.75])\n",
        "print('Квартили =\\n', quar)"
      ],
      "metadata": {
        "colab": {
          "base_uri": "https://localhost:8080/"
        },
        "id": "wB8dGfAr0f4i",
        "outputId": "5128bef4-343d-42d9-aa7a-d896ea4baaf0"
      },
      "execution_count": null,
      "outputs": [
        {
          "output_type": "stream",
          "name": "stdout",
          "text": [
            "Квартили =\n",
            " 0.25    103.0\n",
            "0.50    140.0\n",
            "0.75    170.0\n",
            "Name: Horsepower, dtype: float64\n"
          ]
        }
      ]
    },
    {
      "cell_type": "code",
      "source": [
        "#Вычисляем медиану для мощности авто\n",
        "med = df['Horsepower'].median()\n",
        "print('Медиана =', med)"
      ],
      "metadata": {
        "colab": {
          "base_uri": "https://localhost:8080/"
        },
        "id": "o1SVVYGs3q6Q",
        "outputId": "86cf33a4-3028-474c-949d-0eeb3ed4378d"
      },
      "execution_count": null,
      "outputs": [
        {
          "output_type": "stream",
          "name": "stdout",
          "text": [
            "Медиана = 140.0\n"
          ]
        }
      ]
    },
    {
      "cell_type": "code",
      "source": [
        "df_group = df.groupby('Horsepower')['Model'].count().reset_index()\n",
        "graph = px.bar(df_group, x = 'Horsepower', y = 'Model', color = 'Model').update_layout(\n",
        "    title = 'Зависимость количества моделей от мощности',\n",
        "    xaxis_title = 'Мощность автомобиля',\n",
        "    yaxis_title = 'Количестов моделей'\n",
        ")\n",
        "graph.show()\n",
        "\n",
        "\n"
      ],
      "metadata": {
        "colab": {
          "base_uri": "https://localhost:8080/",
          "height": 542
        },
        "id": "KmyeiWtM4g3B",
        "outputId": "3c8f92d7-ac51-4fba-9989-c45e14a92ed7"
      },
      "execution_count": null,
      "outputs": [
        {
          "output_type": "display_data",
          "data": {
            "text/html": [
              "<html>\n",
              "<head><meta charset=\"utf-8\" /></head>\n",
              "<body>\n",
              "    <div>            <script src=\"https://cdnjs.cloudflare.com/ajax/libs/mathjax/2.7.5/MathJax.js?config=TeX-AMS-MML_SVG\"></script><script type=\"text/javascript\">if (window.MathJax && window.MathJax.Hub && window.MathJax.Hub.Config) {window.MathJax.Hub.Config({SVG: {font: \"STIX-Web\"}});}</script>                <script type=\"text/javascript\">window.PlotlyConfig = {MathJaxConfig: 'local'};</script>\n",
              "        <script charset=\"utf-8\" src=\"https://cdn.plot.ly/plotly-2.35.2.min.js\"></script>                <div id=\"316b18d9-9b04-430a-adec-84f7e1ab6367\" class=\"plotly-graph-div\" style=\"height:525px; width:100%;\"></div>            <script type=\"text/javascript\">                                    window.PLOTLYENV=window.PLOTLYENV || {};                                    if (document.getElementById(\"316b18d9-9b04-430a-adec-84f7e1ab6367\")) {                    Plotly.newPlot(                        \"316b18d9-9b04-430a-adec-84f7e1ab6367\",                        [{\"alignmentgroup\":\"True\",\"hovertemplate\":\"Horsepower=%{x}\\u003cbr\\u003eModel=%{marker.color}\\u003cextra\\u003e\\u003c\\u002fextra\\u003e\",\"legendgroup\":\"\",\"marker\":{\"color\":[1,1,1,1,1,2,2,1,2,5,1,1,3,1,1,1,1,7,1,1,1,1,1,3,1,1,1,5,1,1,1,1,1,1,1,2,5,1,1,1,7,2,1,1,1,1,3,1,1,1,1,1,1,1,1,1,2],\"coloraxis\":\"coloraxis\",\"pattern\":{\"shape\":\"\"}},\"name\":\"\",\"offsetgroup\":\"\",\"orientation\":\"v\",\"showlegend\":false,\"textposition\":\"auto\",\"x\":[55,63,70,73,74,81,82,85,90,92,93,96,100,102,103,105,109,110,114,115,124,127,128,130,134,135,138,140,141,142,145,147,150,151,153,155,160,164,165,168,170,172,178,180,185,190,200,202,208,210,214,217,225,255,278,295,300],\"xaxis\":\"x\",\"y\":[1,1,1,1,1,2,2,1,2,5,1,1,3,1,1,1,1,7,1,1,1,1,1,3,1,1,1,5,1,1,1,1,1,1,1,2,5,1,1,1,7,2,1,1,1,1,3,1,1,1,1,1,1,1,1,1,2],\"yaxis\":\"y\",\"type\":\"bar\"}],                        {\"template\":{\"data\":{\"histogram2dcontour\":[{\"type\":\"histogram2dcontour\",\"colorbar\":{\"outlinewidth\":0,\"ticks\":\"\"},\"colorscale\":[[0.0,\"#0d0887\"],[0.1111111111111111,\"#46039f\"],[0.2222222222222222,\"#7201a8\"],[0.3333333333333333,\"#9c179e\"],[0.4444444444444444,\"#bd3786\"],[0.5555555555555556,\"#d8576b\"],[0.6666666666666666,\"#ed7953\"],[0.7777777777777778,\"#fb9f3a\"],[0.8888888888888888,\"#fdca26\"],[1.0,\"#f0f921\"]]}],\"choropleth\":[{\"type\":\"choropleth\",\"colorbar\":{\"outlinewidth\":0,\"ticks\":\"\"}}],\"histogram2d\":[{\"type\":\"histogram2d\",\"colorbar\":{\"outlinewidth\":0,\"ticks\":\"\"},\"colorscale\":[[0.0,\"#0d0887\"],[0.1111111111111111,\"#46039f\"],[0.2222222222222222,\"#7201a8\"],[0.3333333333333333,\"#9c179e\"],[0.4444444444444444,\"#bd3786\"],[0.5555555555555556,\"#d8576b\"],[0.6666666666666666,\"#ed7953\"],[0.7777777777777778,\"#fb9f3a\"],[0.8888888888888888,\"#fdca26\"],[1.0,\"#f0f921\"]]}],\"heatmap\":[{\"type\":\"heatmap\",\"colorbar\":{\"outlinewidth\":0,\"ticks\":\"\"},\"colorscale\":[[0.0,\"#0d0887\"],[0.1111111111111111,\"#46039f\"],[0.2222222222222222,\"#7201a8\"],[0.3333333333333333,\"#9c179e\"],[0.4444444444444444,\"#bd3786\"],[0.5555555555555556,\"#d8576b\"],[0.6666666666666666,\"#ed7953\"],[0.7777777777777778,\"#fb9f3a\"],[0.8888888888888888,\"#fdca26\"],[1.0,\"#f0f921\"]]}],\"heatmapgl\":[{\"type\":\"heatmapgl\",\"colorbar\":{\"outlinewidth\":0,\"ticks\":\"\"},\"colorscale\":[[0.0,\"#0d0887\"],[0.1111111111111111,\"#46039f\"],[0.2222222222222222,\"#7201a8\"],[0.3333333333333333,\"#9c179e\"],[0.4444444444444444,\"#bd3786\"],[0.5555555555555556,\"#d8576b\"],[0.6666666666666666,\"#ed7953\"],[0.7777777777777778,\"#fb9f3a\"],[0.8888888888888888,\"#fdca26\"],[1.0,\"#f0f921\"]]}],\"contourcarpet\":[{\"type\":\"contourcarpet\",\"colorbar\":{\"outlinewidth\":0,\"ticks\":\"\"}}],\"contour\":[{\"type\":\"contour\",\"colorbar\":{\"outlinewidth\":0,\"ticks\":\"\"},\"colorscale\":[[0.0,\"#0d0887\"],[0.1111111111111111,\"#46039f\"],[0.2222222222222222,\"#7201a8\"],[0.3333333333333333,\"#9c179e\"],[0.4444444444444444,\"#bd3786\"],[0.5555555555555556,\"#d8576b\"],[0.6666666666666666,\"#ed7953\"],[0.7777777777777778,\"#fb9f3a\"],[0.8888888888888888,\"#fdca26\"],[1.0,\"#f0f921\"]]}],\"surface\":[{\"type\":\"surface\",\"colorbar\":{\"outlinewidth\":0,\"ticks\":\"\"},\"colorscale\":[[0.0,\"#0d0887\"],[0.1111111111111111,\"#46039f\"],[0.2222222222222222,\"#7201a8\"],[0.3333333333333333,\"#9c179e\"],[0.4444444444444444,\"#bd3786\"],[0.5555555555555556,\"#d8576b\"],[0.6666666666666666,\"#ed7953\"],[0.7777777777777778,\"#fb9f3a\"],[0.8888888888888888,\"#fdca26\"],[1.0,\"#f0f921\"]]}],\"mesh3d\":[{\"type\":\"mesh3d\",\"colorbar\":{\"outlinewidth\":0,\"ticks\":\"\"}}],\"scatter\":[{\"fillpattern\":{\"fillmode\":\"overlay\",\"size\":10,\"solidity\":0.2},\"type\":\"scatter\"}],\"parcoords\":[{\"type\":\"parcoords\",\"line\":{\"colorbar\":{\"outlinewidth\":0,\"ticks\":\"\"}}}],\"scatterpolargl\":[{\"type\":\"scatterpolargl\",\"marker\":{\"colorbar\":{\"outlinewidth\":0,\"ticks\":\"\"}}}],\"bar\":[{\"error_x\":{\"color\":\"#2a3f5f\"},\"error_y\":{\"color\":\"#2a3f5f\"},\"marker\":{\"line\":{\"color\":\"#E5ECF6\",\"width\":0.5},\"pattern\":{\"fillmode\":\"overlay\",\"size\":10,\"solidity\":0.2}},\"type\":\"bar\"}],\"scattergeo\":[{\"type\":\"scattergeo\",\"marker\":{\"colorbar\":{\"outlinewidth\":0,\"ticks\":\"\"}}}],\"scatterpolar\":[{\"type\":\"scatterpolar\",\"marker\":{\"colorbar\":{\"outlinewidth\":0,\"ticks\":\"\"}}}],\"histogram\":[{\"marker\":{\"pattern\":{\"fillmode\":\"overlay\",\"size\":10,\"solidity\":0.2}},\"type\":\"histogram\"}],\"scattergl\":[{\"type\":\"scattergl\",\"marker\":{\"colorbar\":{\"outlinewidth\":0,\"ticks\":\"\"}}}],\"scatter3d\":[{\"type\":\"scatter3d\",\"line\":{\"colorbar\":{\"outlinewidth\":0,\"ticks\":\"\"}},\"marker\":{\"colorbar\":{\"outlinewidth\":0,\"ticks\":\"\"}}}],\"scattermapbox\":[{\"type\":\"scattermapbox\",\"marker\":{\"colorbar\":{\"outlinewidth\":0,\"ticks\":\"\"}}}],\"scatterternary\":[{\"type\":\"scatterternary\",\"marker\":{\"colorbar\":{\"outlinewidth\":0,\"ticks\":\"\"}}}],\"scattercarpet\":[{\"type\":\"scattercarpet\",\"marker\":{\"colorbar\":{\"outlinewidth\":0,\"ticks\":\"\"}}}],\"carpet\":[{\"aaxis\":{\"endlinecolor\":\"#2a3f5f\",\"gridcolor\":\"white\",\"linecolor\":\"white\",\"minorgridcolor\":\"white\",\"startlinecolor\":\"#2a3f5f\"},\"baxis\":{\"endlinecolor\":\"#2a3f5f\",\"gridcolor\":\"white\",\"linecolor\":\"white\",\"minorgridcolor\":\"white\",\"startlinecolor\":\"#2a3f5f\"},\"type\":\"carpet\"}],\"table\":[{\"cells\":{\"fill\":{\"color\":\"#EBF0F8\"},\"line\":{\"color\":\"white\"}},\"header\":{\"fill\":{\"color\":\"#C8D4E3\"},\"line\":{\"color\":\"white\"}},\"type\":\"table\"}],\"barpolar\":[{\"marker\":{\"line\":{\"color\":\"#E5ECF6\",\"width\":0.5},\"pattern\":{\"fillmode\":\"overlay\",\"size\":10,\"solidity\":0.2}},\"type\":\"barpolar\"}],\"pie\":[{\"automargin\":true,\"type\":\"pie\"}]},\"layout\":{\"autotypenumbers\":\"strict\",\"colorway\":[\"#636efa\",\"#EF553B\",\"#00cc96\",\"#ab63fa\",\"#FFA15A\",\"#19d3f3\",\"#FF6692\",\"#B6E880\",\"#FF97FF\",\"#FECB52\"],\"font\":{\"color\":\"#2a3f5f\"},\"hovermode\":\"closest\",\"hoverlabel\":{\"align\":\"left\"},\"paper_bgcolor\":\"white\",\"plot_bgcolor\":\"#E5ECF6\",\"polar\":{\"bgcolor\":\"#E5ECF6\",\"angularaxis\":{\"gridcolor\":\"white\",\"linecolor\":\"white\",\"ticks\":\"\"},\"radialaxis\":{\"gridcolor\":\"white\",\"linecolor\":\"white\",\"ticks\":\"\"}},\"ternary\":{\"bgcolor\":\"#E5ECF6\",\"aaxis\":{\"gridcolor\":\"white\",\"linecolor\":\"white\",\"ticks\":\"\"},\"baxis\":{\"gridcolor\":\"white\",\"linecolor\":\"white\",\"ticks\":\"\"},\"caxis\":{\"gridcolor\":\"white\",\"linecolor\":\"white\",\"ticks\":\"\"}},\"coloraxis\":{\"colorbar\":{\"outlinewidth\":0,\"ticks\":\"\"}},\"colorscale\":{\"sequential\":[[0.0,\"#0d0887\"],[0.1111111111111111,\"#46039f\"],[0.2222222222222222,\"#7201a8\"],[0.3333333333333333,\"#9c179e\"],[0.4444444444444444,\"#bd3786\"],[0.5555555555555556,\"#d8576b\"],[0.6666666666666666,\"#ed7953\"],[0.7777777777777778,\"#fb9f3a\"],[0.8888888888888888,\"#fdca26\"],[1.0,\"#f0f921\"]],\"sequentialminus\":[[0.0,\"#0d0887\"],[0.1111111111111111,\"#46039f\"],[0.2222222222222222,\"#7201a8\"],[0.3333333333333333,\"#9c179e\"],[0.4444444444444444,\"#bd3786\"],[0.5555555555555556,\"#d8576b\"],[0.6666666666666666,\"#ed7953\"],[0.7777777777777778,\"#fb9f3a\"],[0.8888888888888888,\"#fdca26\"],[1.0,\"#f0f921\"]],\"diverging\":[[0,\"#8e0152\"],[0.1,\"#c51b7d\"],[0.2,\"#de77ae\"],[0.3,\"#f1b6da\"],[0.4,\"#fde0ef\"],[0.5,\"#f7f7f7\"],[0.6,\"#e6f5d0\"],[0.7,\"#b8e186\"],[0.8,\"#7fbc41\"],[0.9,\"#4d9221\"],[1,\"#276419\"]]},\"xaxis\":{\"gridcolor\":\"white\",\"linecolor\":\"white\",\"ticks\":\"\",\"title\":{\"standoff\":15},\"zerolinecolor\":\"white\",\"automargin\":true,\"zerolinewidth\":2},\"yaxis\":{\"gridcolor\":\"white\",\"linecolor\":\"white\",\"ticks\":\"\",\"title\":{\"standoff\":15},\"zerolinecolor\":\"white\",\"automargin\":true,\"zerolinewidth\":2},\"scene\":{\"xaxis\":{\"backgroundcolor\":\"#E5ECF6\",\"gridcolor\":\"white\",\"linecolor\":\"white\",\"showbackground\":true,\"ticks\":\"\",\"zerolinecolor\":\"white\",\"gridwidth\":2},\"yaxis\":{\"backgroundcolor\":\"#E5ECF6\",\"gridcolor\":\"white\",\"linecolor\":\"white\",\"showbackground\":true,\"ticks\":\"\",\"zerolinecolor\":\"white\",\"gridwidth\":2},\"zaxis\":{\"backgroundcolor\":\"#E5ECF6\",\"gridcolor\":\"white\",\"linecolor\":\"white\",\"showbackground\":true,\"ticks\":\"\",\"zerolinecolor\":\"white\",\"gridwidth\":2}},\"shapedefaults\":{\"line\":{\"color\":\"#2a3f5f\"}},\"annotationdefaults\":{\"arrowcolor\":\"#2a3f5f\",\"arrowhead\":0,\"arrowwidth\":1},\"geo\":{\"bgcolor\":\"white\",\"landcolor\":\"#E5ECF6\",\"subunitcolor\":\"white\",\"showland\":true,\"showlakes\":true,\"lakecolor\":\"white\"},\"title\":{\"x\":0.05},\"mapbox\":{\"style\":\"light\"}}},\"xaxis\":{\"anchor\":\"y\",\"domain\":[0.0,1.0],\"title\":{\"text\":\"\\u041c\\u043e\\u0449\\u043d\\u043e\\u0441\\u0442\\u044c \\u0430\\u0432\\u0442\\u043e\\u043c\\u043e\\u0431\\u0438\\u043b\\u044f\"}},\"yaxis\":{\"anchor\":\"x\",\"domain\":[0.0,1.0],\"title\":{\"text\":\"\\u041a\\u043e\\u043b\\u0438\\u0447\\u0435\\u0441\\u0442\\u043e\\u0432 \\u043c\\u043e\\u0434\\u0435\\u043b\\u0435\\u0439\"}},\"coloraxis\":{\"colorbar\":{\"title\":{\"text\":\"Model\"}},\"colorscale\":[[0.0,\"#0d0887\"],[0.1111111111111111,\"#46039f\"],[0.2222222222222222,\"#7201a8\"],[0.3333333333333333,\"#9c179e\"],[0.4444444444444444,\"#bd3786\"],[0.5555555555555556,\"#d8576b\"],[0.6666666666666666,\"#ed7953\"],[0.7777777777777778,\"#fb9f3a\"],[0.8888888888888888,\"#fdca26\"],[1.0,\"#f0f921\"]]},\"legend\":{\"tracegroupgap\":0},\"margin\":{\"t\":60},\"barmode\":\"relative\",\"title\":{\"text\":\"\\u0417\\u0430\\u0432\\u0438\\u0441\\u0438\\u043c\\u043e\\u0441\\u0442\\u044c \\u043a\\u043e\\u043b\\u0438\\u0447\\u0435\\u0441\\u0442\\u0432\\u0430 \\u043c\\u043e\\u0434\\u0435\\u043b\\u0435\\u0439 \\u043e\\u0442 \\u043c\\u043e\\u0449\\u043d\\u043e\\u0441\\u0442\\u0438\"}},                        {\"responsive\": true}                    ).then(function(){\n",
              "                            \n",
              "var gd = document.getElementById('316b18d9-9b04-430a-adec-84f7e1ab6367');\n",
              "var x = new MutationObserver(function (mutations, observer) {{\n",
              "        var display = window.getComputedStyle(gd).display;\n",
              "        if (!display || display === 'none') {{\n",
              "            console.log([gd, 'removed!']);\n",
              "            Plotly.purge(gd);\n",
              "            observer.disconnect();\n",
              "        }}\n",
              "}});\n",
              "\n",
              "// Listen for the removal of the full notebook cells\n",
              "var notebookContainer = gd.closest('#notebook-container');\n",
              "if (notebookContainer) {{\n",
              "    x.observe(notebookContainer, {childList: true});\n",
              "}}\n",
              "\n",
              "// Listen for the clearing of the current output cell\n",
              "var outputEl = gd.closest('.output');\n",
              "if (outputEl) {{\n",
              "    x.observe(outputEl, {childList: true});\n",
              "}}\n",
              "\n",
              "                        })                };                            </script>        </div>\n",
              "</body>\n",
              "</html>"
            ]
          },
          "metadata": {}
        }
      ]
    },
    {
      "cell_type": "code",
      "source": [
        "df.boxplot(column='Horsepower')"
      ],
      "metadata": {
        "colab": {
          "base_uri": "https://localhost:8080/",
          "height": 448
        },
        "id": "DCeOMcUl7odf",
        "outputId": "421ddf1f-16e6-4f29-aa25-9b257c5cb426"
      },
      "execution_count": null,
      "outputs": [
        {
          "output_type": "execute_result",
          "data": {
            "text/plain": [
              "<Axes: >"
            ]
          },
          "metadata": {},
          "execution_count": 9
        },
        {
          "output_type": "display_data",
          "data": {
            "text/plain": [
              "<Figure size 640x480 with 1 Axes>"
            ],
            "image/png": "[encoded data removed]"
          },
          "metadata": {}
        }
      ]
    },
    {
      "cell_type": "code",
      "source": [
        "# Для параметра распеделеления Бернулли. Выборка из 10 чисел\n",
        "# На просторах интеренета рекумендуют использовать bernoulli.fit(), однако я не буду использовать, так как он не доступен\n",
        "# Генерируем сулчайную выборку из распределния Бернулли, где на каждый результат будет свое количество испытаний\n",
        "# Предупреждение: выборка может сгенерироваться аномально, поэтому будут возникать предупреждения об ошибке в логорифме или оценка максимального правдоподобия будет меньше нуля\n",
        "\n",
        "# Сразу определим функцию правдоподобия\n",
        "def plausibility(p, data):\n",
        "  summ = 0\n",
        "  for  r, t in data:\n",
        "    summ += r*np.log(p) + (1-r)*np.log(1-p)\n",
        "  return summ\n",
        "\n",
        "# Генерируем выборность с результатами испытаний и количеством испытний для каждого результата\n",
        "data = {}\n",
        "\n",
        "for i in range(10):\n",
        "  if 'result' not in data:\n",
        "    data['result'] = [round(random.random())]\n",
        "    data['trials'] = [round(random.randrange(1, 10))]\n",
        "  else:\n",
        "    data['result'].append(round(random.random()))\n",
        "    data['trials'].append(round(random.randrange(1, 10)))\n",
        "print(data)\n",
        "# Сгенерировали. Теперь передлываем в картеджи\n",
        "\n",
        "data_2 = pd.DataFrame(data)\n",
        "data_3 = list(zip(data_2['result'], data_2['trials']))\n",
        "\n",
        "#Присутпаем к оценки макисмального правдоподобия. Для этого будем использовать minmize. ДЛя начала инициализируем оценку правдоподобия\n",
        "\n",
        "p = 0.5\n",
        "\n",
        "max_p = minimize(lambda p: -plausibility(p, data_3),p, method = 'BFGS').x\n",
        "print(max_p) #Напрмер результат 0.50999 для выборки {'result': [0.99, 0.21, 0.8, 0.04, 0.37, 0.9, 0.38, 0.11, 0.76, 0.54], 'trials': [9, 9, 2, 9, 1, 7, 2, 7, 8, 8]}\n",
        "\n",
        "\n"
      ],
      "metadata": {
        "id": "wZ8-_9bJia9p",
        "colab": {
          "base_uri": "https://localhost:8080/"
        },
        "outputId": "b71ef0e7-b81a-4a4d-8231-5ed3e38520f2"
      },
      "execution_count": null,
      "outputs": [
        {
          "output_type": "stream",
          "name": "stdout",
          "text": [
            "{'result': [0, 0, 1, 1, 0, 0, 0, 1, 1, 1], 'trials': [5, 6, 4, 2, 3, 4, 8, 3, 1, 1]}\n",
            "[0.5]\n"
          ]
        }
      ]
    },
    {
      "cell_type": "code",
      "source": [
        "var =  round(data_2['result'].var(), 2)\n",
        "print('Дисперсия =', var)\n",
        "print('Математическое ожидание =', np.mean(data['result']))"
      ],
      "metadata": {
        "id": "TWv9Yl3Rl9KI",
        "colab": {
          "base_uri": "https://localhost:8080/"
        },
        "outputId": "b21bae2c-2e59-437f-eba1-09caeb4edd0c"
      },
      "execution_count": null,
      "outputs": [
        {
          "output_type": "stream",
          "name": "stdout",
          "text": [
            "Дисперсия = 0.28\n",
            "Математическое ожидание = 0.5\n"
          ]
        }
      ]
    },
    {
      "cell_type": "code",
      "source": [
        "#Для вычисления смещения опеределнного параметра надо знать его математическое ожидание его и сам параметр\n",
        "#В некоторых формулах встречалось, что разность между значениями выше деляиться на количество чисел в выборке\n",
        "\n",
        "#Например, я хочу вычислить теоретическое смещение для диспресии\n",
        "\n",
        "mean_var = np.mean(var) #Однако среднее значение одного параметра равно значению параметра\n",
        "theoretical_bias = mean_var - var\n",
        "print(f'Теоретическое смещение = {theoretical_bias}') # Таким образом оно будет равно нулю"
      ],
      "metadata": {
        "colab": {
          "base_uri": "https://localhost:8080/"
        },
        "id": "xsTlP_nXPvMg",
        "outputId": "6b3c59ce-7095-426e-f275-e982c0c249a4"
      },
      "execution_count": null,
      "outputs": [
        {
          "output_type": "stream",
          "name": "stdout",
          "text": [
            "Теоретическое смещение = 0.0\n"
          ]
        }
      ]
    },
    {
      "cell_type": "code",
      "source": [
        "#Теперь вычислим доверительный интервал с уровнем 0.95\n",
        "level = 0.95\n",
        "lenght = count_power\n",
        "#Стандартное отклонение уже есть(std), срднее значение тоже есть (medium_power)\n",
        "\n",
        "free = lenght - 1 #Степень сводбода\n",
        "alpha = (1 - level)/2 #Уровень значимости\n",
        "t_value = stats.t.ppf(1 - alpha, free)\n",
        "margin_of_error = t_value * (std / lenght**0.5)\n",
        "print(f'Доверительный интервал для уровня {level} = {round(medium_power, 2)} +- {round(margin_of_error, 2)}')\n",
        "\n",
        "\n",
        "\n"
      ],
      "metadata": {
        "id": "CarYf_gNQ4gd",
        "colab": {
          "base_uri": "https://localhost:8080/"
        },
        "outputId": "67f11fff-da81-400e-bdd6-eecfb36bbf01"
      },
      "execution_count": null,
      "outputs": [
        {
          "output_type": "stream",
          "name": "stdout",
          "text": [
            "Доверительный интервал для уровня 0.95 = 143.83 +- 10.79\n"
          ]
        }
      ]
    },
    {
      "cell_type": "code",
      "source": [
        "#Проверка согласованности при помощи критерия Пирсона\n",
        "import scipy.stats as stats\n",
        "data_power = df['Horsepower'].to_numpy()\n",
        "\n",
        "st, p = stats.normaltest(data_power)\n",
        "#st - статистика теста, p - значение\n",
        "if p > alpha:\n",
        "  print('Согласуется с нормальным законом')\n",
        "else:\n",
        "  print('Несогласуется с нормальным заканом')"
      ],
      "metadata": {
        "colab": {
          "base_uri": "https://localhost:8080/"
        },
        "id": "W_GbKOEUU9Ct",
        "outputId": "8e3610be-909a-4460-aef9-6fb3bcbf28a0"
      },
      "execution_count": null,
      "outputs": [
        {
          "output_type": "stream",
          "name": "stdout",
          "text": [
            "Несогласуется с нормальным заканом\n"
          ]
        }
      ]
    },
    {
      "cell_type": "code",
      "source": [
        "#Проверяем независимость мощности и цен против положительной корреляции\n",
        "\n",
        "correlation = df['Horsepower'].corr(df['Price'])\n",
        "\n",
        "if abs(correlation) > -0.5:\n",
        "  print('Есть линейаня зависимость')\n",
        "else:\n",
        "  print('Зависимость слабая')\n",
        "\n",
        "print(f'Корреляция = {round(correlation, 2)}')"
      ],
      "metadata": {
        "colab": {
          "base_uri": "https://localhost:8080/"
        },
        "id": "7Y0GEFBfZI-x",
        "outputId": "dd56e105-142b-486d-e267-ce2a14989e73"
      },
      "execution_count": null,
      "outputs": [
        {
          "output_type": "stream",
          "name": "stdout",
          "text": [
            "Есть линейаня зависимость\n",
            "Корреляция = 0.79\n"
          ]
        }
      ]
    }
  ]
}
